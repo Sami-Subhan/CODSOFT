{
  "nbformat": 4,
  "nbformat_minor": 0,
  "metadata": {
    "colab": {
      "provenance": [],
      "authorship_tag": "ABX9TyMs7+FzPgYxz9P90oAQzlKI",
      "include_colab_link": true
    },
    "kernelspec": {
      "name": "python3",
      "display_name": "Python 3"
    },
    "language_info": {
      "name": "python"
    }
  },
  "cells": [
    {
      "cell_type": "markdown",
      "metadata": {
        "id": "view-in-github",
        "colab_type": "text"
      },
      "source": [
        "<a href=\"https://colab.research.google.com/github/samigithubsubhan/CODSOFT/blob/main/Task_5.ipynb\" target=\"_parent\"><img src=\"https://colab.research.google.com/assets/colab-badge.svg\" alt=\"Open In Colab\"/></a>"
      ]
    },
    {
      "cell_type": "markdown",
      "source": [
        "# **Contact Book**\n",
        "* Contact Information: Store name, phone number, email, and address for each contact.\n",
        "* Add Contact: Allow users to add new contacts with their details.\n",
        "* View Contact List: Display a list of all saved contacts with names and phone numbers.\n",
        "* Search Contact: Implement a search function to find contacts by name or phone number.\n",
        "* Update Contact: Enable users to update contact details.\n",
        "* Delete Contact: Provide an option to delete a contact.\n",
        "* User Interface: Design a user-friendly interface for easy interaction."
      ],
      "metadata": {
        "id": "oCCqA7P48w3B"
      }
    },
    {
      "cell_type": "markdown",
      "source": [
        "## **Add Contacts**\n",
        "This function will add a contact in the list."
      ],
      "metadata": {
        "id": "rOT2jer59PYd"
      }
    },
    {
      "cell_type": "code",
      "execution_count": null,
      "metadata": {
        "id": "-l7Yasft8oT7"
      },
      "outputs": [],
      "source": [
        "# Define a list to store contacts\n",
        "contacts = []\n",
        "\n",
        "def add_contact():\n",
        "    name = input(\"Enter the contact's name: \")\n",
        "    phone = input(\"Enter the contact's phone number: \")\n",
        "    email = input(\"Enter the contact's email: \")\n",
        "    address = input(\"Enter the contact's address: \")\n",
        "    contact = {\"Name\": name, \"Phone\": phone, \"Email\": email, \"Address\": address}\n",
        "    contacts.append(contact)\n",
        "    print(f\"{name} has been added to your contacts.\")"
      ]
    },
    {
      "cell_type": "markdown",
      "source": [
        "## **View Contacts**\n",
        "This function will display the contact list."
      ],
      "metadata": {
        "id": "qixEXnF4_P_6"
      }
    },
    {
      "cell_type": "code",
      "source": [
        "def view_contacts():\n",
        "    if not contacts:\n",
        "        print(\"No contacts found.\")\n",
        "    else:\n",
        "        print(\"\\nContact List:\")\n",
        "        for index, contact in enumerate(contacts, start=1):\n",
        "            print(f\"{index}. Name: {contact['Name']}, Phone: {contact['Phone']}\")"
      ],
      "metadata": {
        "id": "4OANX_079u90"
      },
      "execution_count": null,
      "outputs": []
    },
    {
      "cell_type": "markdown",
      "source": [
        "## **Search Contact**\n",
        "This function will search for a specific contact in the contact list."
      ],
      "metadata": {
        "id": "6vv3YIEg_f56"
      }
    },
    {
      "cell_type": "code",
      "source": [
        "def search_contact():\n",
        "    search_term = input(\"Enter a name or phone number to search: \")\n",
        "    found_contacts = []\n",
        "\n",
        "    for contact in contacts:\n",
        "        if search_term in contact[\"Name\"] or search_term in contact[\"Phone\"]:\n",
        "            found_contacts.append(contact)\n",
        "\n",
        "    if not found_contacts:\n",
        "        print(\"No matching contacts found.\")\n",
        "    else:\n",
        "        print(\"\\nMatching Contacts:\")\n",
        "        for contact in found_contacts:\n",
        "            print(f\"Name: {contact['Name']}, Phone: {contact['Phone']}\")"
      ],
      "metadata": {
        "id": "I8qyGr0K9zHI"
      },
      "execution_count": null,
      "outputs": []
    },
    {
      "cell_type": "markdown",
      "source": [
        "## **Update Contact**\n",
        "This function will update a contact in the contact list."
      ],
      "metadata": {
        "id": "6Ks-MOEJ_pOJ"
      }
    },
    {
      "cell_type": "code",
      "source": [
        "def update_contact():\n",
        "    search_term = input(\"Enter the name or phone number of the contact to update: \")\n",
        "    found_contacts = []\n",
        "\n",
        "    for contact in contacts:\n",
        "        if search_term in contact[\"Name\"] or search_term in contact[\"Phone\"]:\n",
        "            found_contacts.append(contact)\n",
        "\n",
        "    if not found_contacts:\n",
        "        print(\"No matching contacts found.\")\n",
        "    else:\n",
        "        print(\"\\nMatching Contacts:\")\n",
        "        for index, contact in enumerate(found_contacts, start=1):\n",
        "            print(f\"{index}. Name: {contact['Name']}, Phone: {contact['Phone']}\")\n",
        "\n",
        "        choice = input(\"Enter the number of the contact to update: \")\n",
        "\n",
        "        try:\n",
        "            index = int(choice) - 1\n",
        "            if 0 <= index < len(found_contacts):\n",
        "                contact = found_contacts[index]\n",
        "                print(f\"Updating contact: {contact['Name']}\")\n",
        "                contact[\"Name\"] = input(\"Enter the new name: \")\n",
        "                contact[\"Phone\"] = input(\"Enter the new phone number: \")\n",
        "                contact[\"Email\"] = input(\"Enter the new email: \")\n",
        "                contact[\"Address\"] = input(\"Enter the new address: \")\n",
        "                print(\"Contact updated successfully.\")\n",
        "            else:\n",
        "                print(\"Invalid choice.\")\n",
        "        except ValueError:\n",
        "            print(\"Invalid input. Please enter a valid number.\")"
      ],
      "metadata": {
        "id": "mRYIDYJt95_H"
      },
      "execution_count": null,
      "outputs": []
    },
    {
      "cell_type": "markdown",
      "source": [
        "## **Delete Contact**\n",
        "This function will delete a contact from the contact list."
      ],
      "metadata": {
        "id": "1BRIhR3C_7pt"
      }
    },
    {
      "cell_type": "code",
      "source": [
        "\n",
        "def delete_contact():\n",
        "    search_term = input(\"Enter the name or phone number of the contact to delete: \")\n",
        "    found_contacts = []\n",
        "\n",
        "    for contact in contacts:\n",
        "        if search_term in contact[\"Name\"] or search_term in contact[\"Phone\"]:\n",
        "            found_contacts.append(contact)\n",
        "\n",
        "    if not found_contacts:\n",
        "        print(\"No matching contacts found.\")\n",
        "    else:\n",
        "        print(\"\\nMatching Contacts:\")\n",
        "        for index, contact in enumerate(found_contacts, start=1):\n",
        "            print(f\"{index}. Name: {contact['Name']}, Phone: {contact['Phone']}\")\n",
        "\n",
        "        choice = input(\"Enter the number of the contact to delete: \")\n",
        "\n",
        "        try:\n",
        "            index = int(choice) - 1\n",
        "            if 0 <= index < len(found_contacts):\n",
        "                contact = found_contacts[index]\n",
        "                print(f\"Deleting contact: {contact['Name']}\")\n",
        "                contacts.remove(contact)\n",
        "                print(\"Contact deleted successfully.\")\n",
        "            else:\n",
        "                print(\"Invalid choice.\")\n",
        "        except ValueError:\n",
        "            print(\"Invalid input. Please enter a valid number.\")"
      ],
      "metadata": {
        "id": "Gk4kxXfc-DnA"
      },
      "execution_count": null,
      "outputs": []
    },
    {
      "cell_type": "markdown",
      "source": [
        "## **User Interface**\n",
        "The following code is the main loop through which the whole functions and program will execute according to the user's choice."
      ],
      "metadata": {
        "id": "eCSaT4DuAS2L"
      }
    },
    {
      "cell_type": "code",
      "source": [
        "# Main loop for the contact book\n",
        "while True:\n",
        "    print(\"\\nContact Book Menu:\")\n",
        "    print(\"1. Add Contact\")\n",
        "    print(\"2. View Contacts\")\n",
        "    print(\"3. Search Contact\")\n",
        "    print(\"4. Update Contact\")\n",
        "    print(\"5. Delete Contact\")\n",
        "    print(\"6. Quit\")\n",
        "\n",
        "    choice = input(\"Enter your choice: \")\n",
        "\n",
        "    if choice == \"1\":\n",
        "        add_contact()\n",
        "    elif choice == \"2\":\n",
        "        view_contacts()\n",
        "    elif choice == \"3\":\n",
        "        search_contact()\n",
        "    elif choice == \"4\":\n",
        "        update_contact()\n",
        "    elif choice == \"5\":\n",
        "        delete_contact()\n",
        "    elif choice == \"6\":\n",
        "        print(\"Exiting Contact Book.\")\n",
        "        break\n",
        "    else:\n",
        "        print(\"Invalid choice. Please try again.\")"
      ],
      "metadata": {
        "id": "c6PZLCCT-x2b"
      },
      "execution_count": null,
      "outputs": []
    }
  ]
}