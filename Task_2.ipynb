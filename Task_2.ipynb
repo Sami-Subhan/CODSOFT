{
  "nbformat": 4,
  "nbformat_minor": 0,
  "metadata": {
    "colab": {
      "provenance": [],
      "authorship_tag": "ABX9TyO4l5yWwVbiTohcyCIQHR3L",
      "include_colab_link": true
    },
    "kernelspec": {
      "name": "python3",
      "display_name": "Python 3"
    },
    "language_info": {
      "name": "python"
    }
  },
  "cells": [
    {
      "cell_type": "markdown",
      "metadata": {
        "id": "view-in-github",
        "colab_type": "text"
      },
      "source": [
        "<a href=\"https://colab.research.google.com/github/samigithubsubhan/CODSOFT/blob/main/Task_2.ipynb\" target=\"_parent\"><img src=\"https://colab.research.google.com/assets/colab-badge.svg\" alt=\"Open In Colab\"/></a>"
      ]
    },
    {
      "cell_type": "markdown",
      "source": [
        "## **CALCULATOR**\n",
        "Design a simple calculator with basic arithmetic operations.\n",
        "Prompt the user to input two numbers and an operation choice.\n",
        "Perform the calculation and display the result."
      ],
      "metadata": {
        "id": "4Wlj14-XT8TE"
      }
    },
    {
      "cell_type": "markdown",
      "source": [
        "## **Perform Operation**\n",
        "The following function will take two numbers and an operator to perform the mathematical operations, and then return the output."
      ],
      "metadata": {
        "id": "fvCYO_EhUM4Q"
      }
    },
    {
      "cell_type": "code",
      "source": [
        "# Function to perform arithmetic operations\n",
        "def perform_operation(num1, num2, operation):\n",
        "    if operation == '+':\n",
        "        return num1 + num2\n",
        "    elif operation == '-':\n",
        "        return num1 - num2\n",
        "    elif operation == '*':\n",
        "        return num1 * num2\n",
        "    elif operation == '/':\n",
        "        if num2 == 0:\n",
        "            return \"Cannot divide by zero\"\n",
        "        else:\n",
        "            return num1 / num2\n",
        "    else:\n",
        "        return \"Invalid operation\""
      ],
      "metadata": {
        "id": "bc_BFdZaUzwa"
      },
      "execution_count": null,
      "outputs": []
    },
    {
      "cell_type": "markdown",
      "source": [
        "## **Simple Calculator**\n",
        "The following code will create a user-friendly environment to perform mathematical tasks."
      ],
      "metadata": {
        "id": "KoQoModdUNKA"
      }
    },
    {
      "cell_type": "code",
      "execution_count": null,
      "metadata": {
        "colab": {
          "base_uri": "https://localhost:8080/"
        },
        "id": "MpRX3O75Tzfw",
        "outputId": "29d6bed0-57be-41b2-9cfd-d629ff7e0979"
      },
      "outputs": [
        {
          "output_type": "stream",
          "name": "stdout",
          "text": [
            "Enter the first number: 1e-2\n",
            "Enter the second number: 2e-5\n",
            "Enter the operation (+, -, *, /): *\n",
            "Result: 2.0000000000000002e-07\n"
          ]
        }
      ],
      "source": [
        "# Input from the user\n",
        "try:\n",
        "    num1 = float(input(\"Enter the first number: \"))\n",
        "    num2 = float(input(\"Enter the second number: \"))\n",
        "    operation = input(\"Enter the operation (+, -, *, /): \")\n",
        "\n",
        "    # Perform the calculation\n",
        "    result = perform_operation(num1, num2, operation)\n",
        "\n",
        "    # Display the result\n",
        "    print(f\"Result: {result}\")\n",
        "\n",
        "except ValueError:\n",
        "    print(\"Invalid input. Please enter valid numbers.\")\n",
        "except Exception as e:\n",
        "    print(f\"An error occurred: {str(e)}\")"
      ]
    },
    {
      "cell_type": "code",
      "source": [],
      "metadata": {
        "id": "5X56JLSIXKYY"
      },
      "execution_count": null,
      "outputs": []
    }
  ]
}