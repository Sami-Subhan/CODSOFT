{
  "nbformat": 4,
  "nbformat_minor": 0,
  "metadata": {
    "colab": {
      "provenance": []
    },
    "kernelspec": {
      "name": "python3",
      "display_name": "Python 3"
    },
    "language_info": {
      "name": "python"
    }
  },
  "cells": [
    {
      "cell_type": "markdown",
      "source": [
        "# **TO-DO LIST**\n",
        "A To-Do List application is a useful project that helps users manage and organize their tasks efficiently. This project aims to create a command-line or GUI-based application using Python, allowing users to create, update, and track their to-do lists."
      ],
      "metadata": {
        "id": "gZbk8fEJASAr"
      }
    },
    {
      "cell_type": "markdown",
      "source": [
        "## **ADD TASKS**\n",
        "This function will take the task to be added as input and return the list with the added task.\n"
      ],
      "metadata": {
        "id": "w9Osf4TlBvCg"
      }
    },
    {
      "cell_type": "code",
      "source": [
        "# Define a dictionary to store tasks\n",
        "tasks = {}\n",
        "\n",
        "def add_task(task_description):\n",
        "    task_id = len(tasks) + 1\n",
        "    tasks[task_id] = {\"description\": task_description, \"completed\": False}\n",
        "    print(f\"Task {task_id} added.\")"
      ],
      "metadata": {
        "id": "pTH9iflhCWoK"
      },
      "execution_count": null,
      "outputs": []
    },
    {
      "cell_type": "markdown",
      "source": [
        "## **Update Task**\n",
        "This function will update any specific task with a new task by taking both as input."
      ],
      "metadata": {
        "id": "cJ2_fdGTCzWZ"
      }
    },
    {
      "cell_type": "code",
      "source": [
        "def update_task(task_id, new_description):\n",
        "    if task_id in tasks:\n",
        "        tasks[task_id][\"description\"] = new_description\n",
        "        print(f\"Task {task_id} updated.\")\n",
        "    else:\n",
        "        print(f\"Task {task_id} not found.\")"
      ],
      "metadata": {
        "id": "QFJ5EX3TB-zB"
      },
      "execution_count": null,
      "outputs": []
    },
    {
      "cell_type": "markdown",
      "source": [
        "## **Complete Task**\n",
        "This function will take the task as input and mark the task as completed."
      ],
      "metadata": {
        "id": "WR4yVmfxDgrY"
      }
    },
    {
      "cell_type": "code",
      "source": [
        "def complete_task(task_id):\n",
        "    if task_id in tasks:\n",
        "        tasks[task_id][\"completed\"] = True\n",
        "        print(f\"Task {task_id} marked as completed.\")\n",
        "    else:\n",
        "        print(f\"Task {task_id} not found.\")"
      ],
      "metadata": {
        "id": "iRoRLsJ6EUv5"
      },
      "execution_count": null,
      "outputs": []
    },
    {
      "cell_type": "markdown",
      "source": [
        "## **Delete Task**\n",
        "This function will take a task as input to remove/delete it from the list."
      ],
      "metadata": {
        "id": "RSE4JIqHETzf"
      }
    },
    {
      "cell_type": "code",
      "source": [
        "def delete_task(task_id):\n",
        "    if task_id in tasks:\n",
        "        del tasks[task_id]\n",
        "        print(f\"Task {task_id} deleted.\")\n",
        "    else:\n",
        "        print(f\"Task {task_id} not found.\")"
      ],
      "metadata": {
        "id": "xjFT42YjFSid"
      },
      "execution_count": null,
      "outputs": []
    },
    {
      "cell_type": "markdown",
      "source": [
        "## **List Task**\n",
        "This function will display the tasks present in the to-do list with their status."
      ],
      "metadata": {
        "id": "ZTEL1td0FXjG"
      }
    },
    {
      "cell_type": "code",
      "source": [
        "def list_tasks():\n",
        "    print(\"To-Do List:\")\n",
        "    for task_id, task in tasks.items():\n",
        "        status = \"Completed\" if task[\"completed\"] else \"Not Completed\"\n",
        "        print(f\"Task {task_id}: {task['description']} ({status})\")\n"
      ],
      "metadata": {
        "id": "r4bbCTjPFqyc"
      },
      "execution_count": null,
      "outputs": []
    },
    {
      "cell_type": "markdown",
      "source": [
        "## **User Friendly App**\n",
        "The following code will help the users to access the to-do list and work with it efficiently."
      ],
      "metadata": {
        "id": "GctiWAmpF821"
      }
    },
    {
      "cell_type": "code",
      "source": [
        "if __name__ == \"__main__\":\n",
        "    while True:\n",
        "        print(\"\\nOptions:\")\n",
        "        print(\"1. Add Task\")\n",
        "        print(\"2. Update Task\")\n",
        "        print(\"3. Complete Task\")\n",
        "        print(\"4. Delete Task\")\n",
        "        print(\"5. List Tasks\")\n",
        "        print(\"6. Quit\")\n",
        "\n",
        "        choice = input(\"Enter your choice (1/2/3/4/5/6): \")\n",
        "\n",
        "        if choice == \"1\":\n",
        "            task_description = input(\"Enter task description: \")\n",
        "            add_task(task_description)\n",
        "        elif choice == \"2\":\n",
        "            task_id = int(input(\"Enter task ID to update: \"))\n",
        "            new_description = input(\"Enter new task description: \")\n",
        "            update_task(task_id, new_description)\n",
        "        elif choice == \"3\":\n",
        "            task_id = int(input(\"Enter task ID to mark as completed: \"))\n",
        "            complete_task(task_id)\n",
        "        elif choice == \"4\":\n",
        "            task_id = int(input(\"Enter task ID to delete: \"))\n",
        "            delete_task(task_id)\n",
        "        elif choice == \"5\":\n",
        "            list_tasks()\n",
        "        elif choice == \"6\":\n",
        "            break\n",
        "        else:\n",
        "            print(\"Invalid choice. Please try again.\")"
      ],
      "metadata": {
        "id": "5Hv452DaF7wD"
      },
      "execution_count": null,
      "outputs": []
    },
    {
      "cell_type": "code",
      "source": [],
      "metadata": {
        "id": "zVnnUZMlHGRH"
      },
      "execution_count": null,
      "outputs": []
    }
  ]
}