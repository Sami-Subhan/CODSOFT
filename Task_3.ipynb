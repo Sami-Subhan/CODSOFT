{
  "nbformat": 4,
  "nbformat_minor": 0,
  "metadata": {
    "colab": {
      "provenance": [],
      "authorship_tag": "ABX9TyMrKxs8Wc19sKQARmLjDIhq",
      "include_colab_link": true
    },
    "kernelspec": {
      "name": "python3",
      "display_name": "Python 3"
    },
    "language_info": {
      "name": "python"
    }
  },
  "cells": [
    {
      "cell_type": "markdown",
      "metadata": {
        "id": "view-in-github",
        "colab_type": "text"
      },
      "source": [
        "<a href=\"https://colab.research.google.com/github/samigithubsubhan/CODSOFT/blob/main/Task_3.ipynb\" target=\"_parent\"><img src=\"https://colab.research.google.com/assets/colab-badge.svg\" alt=\"Open In Colab\"/></a>"
      ]
    },
    {
      "cell_type": "markdown",
      "source": [
        "# **PASSWORD GENERATOR**\n",
        "A password generator is a useful tool that generates strong and\n",
        "random passwords for users. This project aims to create a\n",
        "password generator application using Python, allowing users to\n",
        "specify the length and complexity of the password.\n",
        "\n",
        "*   User Input: Prompt the user to specify the desired length of the\n",
        "password.\n",
        "*   Generate Password: Use a combination of random characters to\n",
        "generate a password of the specified length.\n",
        "*   Display the Password: Print the generated password on the screen.\n",
        "\n"
      ],
      "metadata": {
        "id": "-MD1nMN_eWn2"
      }
    },
    {
      "cell_type": "markdown",
      "source": [
        "## **Function Definition**\n",
        "The function will take the length of the password as input and then generate a password having random characters."
      ],
      "metadata": {
        "id": "Hj3GrVGpjTtr"
      }
    },
    {
      "cell_type": "code",
      "execution_count": null,
      "metadata": {
        "id": "hOQJeuW7ca1g"
      },
      "outputs": [],
      "source": [
        "import random\n",
        "import string\n",
        "\n",
        "def generate_password(length):\n",
        "    # Define character sets for different complexity levels\n",
        "    lower_case = string.ascii_lowercase\n",
        "    upper_case = string.ascii_uppercase\n",
        "    digits = string.digits\n",
        "    special_characters = string.punctuation\n",
        "\n",
        "    # Combine character sets based on desired complexity\n",
        "    characters = lower_case + upper_case + digits + special_characters\n",
        "\n",
        "    # Generate a random password of the specified length\n",
        "    password = ''.join(random.choice(characters) for _ in range(length))\n",
        "\n",
        "    return password"
      ]
    },
    {
      "cell_type": "markdown",
      "source": [
        "## **User Prompt**\n",
        "The following code will take the password length as input from the user and then display the generated password."
      ],
      "metadata": {
        "id": "Rzuwl6-sjyX3"
      }
    },
    {
      "cell_type": "code",
      "source": [
        "try:\n",
        "    # Prompt the user for the desired password length\n",
        "    password_length = int(input(\"Enter the desired password length: \"))\n",
        "\n",
        "    # Check if the specified length is valid\n",
        "    if password_length <= 0:\n",
        "        print(\"Password length should be a positive integer.\")\n",
        "    else:\n",
        "        # Generate the password\n",
        "        generated_password = generate_password(password_length)\n",
        "\n",
        "        # Display the generated password\n",
        "        print(f\"Generated Password: {generated_password}\")\n",
        "\n",
        "except ValueError:\n",
        "    print(\"Invalid input. Please enter a valid positive integer for password length.\")"
      ],
      "metadata": {
        "id": "hnLiZPDzksMP"
      },
      "execution_count": null,
      "outputs": []
    }
  ]
}