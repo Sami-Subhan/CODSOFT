{
  "nbformat": 4,
  "nbformat_minor": 0,
  "metadata": {
    "colab": {
      "provenance": [],
      "authorship_tag": "ABX9TyO1wiTXBNVqOn+D4VUXiiX8",
      "include_colab_link": true
    },
    "kernelspec": {
      "name": "python3",
      "display_name": "Python 3"
    },
    "language_info": {
      "name": "python"
    }
  },
  "cells": [
    {
      "cell_type": "markdown",
      "metadata": {
        "id": "view-in-github",
        "colab_type": "text"
      },
      "source": [
        "<a href=\"https://colab.research.google.com/github/samigithubsubhan/CODSOFT/blob/main/Task_4.ipynb\" target=\"_parent\"><img src=\"https://colab.research.google.com/assets/colab-badge.svg\" alt=\"Open In Colab\"/></a>"
      ]
    },
    {
      "cell_type": "markdown",
      "source": [
        "# **Rock-Paper-Scissors Game**\n",
        "\n",
        "\n",
        "*   User Input: Prompt the user to choose rock, paper, or scissors.\n",
        "*   Computer Selection: Generate a random choice (rock, paper, or scissors) for\n",
        "the computer.\n",
        "*   Game Logic: Determine the winner based on the user's choice and the\n",
        "computer's choice.\n",
        "Rock beats scissors, scissors beat paper, and paper beats rock\n",
        "*   Display Result: Show the user's choice and the computer's choice.\n",
        "Display the result, whether the user wins, loses, or it's a tie.\n",
        "*   Score Tracking (Optional): Keep track of the user's and computer's scores for\n",
        "multiple rounds.\n",
        "\n",
        "*   Play Again: Ask the user if they want to play another round.\n",
        "*   User Interface: Design a user-friendly interface with clear instructions and\n",
        "feedback.\n",
        "\n",
        "\n",
        "\n",
        "\n",
        "\n",
        "\n"
      ],
      "metadata": {
        "id": "SetHQYj9q1J7"
      }
    },
    {
      "cell_type": "markdown",
      "source": [
        "## **Play Round**\n",
        "This function will execute the whole game according to above instructions."
      ],
      "metadata": {
        "id": "prBNBEr5sNv1"
      }
    },
    {
      "cell_type": "code",
      "source": [
        "import random\n",
        "\n",
        "def play_round():\n",
        "    # Initialize scores\n",
        "    user_score = 0\n",
        "    computer_score = 0\n",
        "\n",
        "    # Define choices\n",
        "    choices = [\"rock\", \"paper\", \"scissors\"]\n",
        "\n",
        "    while True:\n",
        "        # User input\n",
        "        user_choice = input(\"\\nChoose rock, paper, or scissors (or 'q' to quit): \").lower()\n",
        "\n",
        "        # Check if the user wants to quit\n",
        "        if user_choice == 'q':\n",
        "            break\n",
        "\n",
        "        # Validate user input\n",
        "        if user_choice not in choices:\n",
        "            print(\"Invalid choice. Please choose rock, paper, or scissors.\")\n",
        "            continue\n",
        "\n",
        "        # Computer selection\n",
        "        computer_choice = random.choice(choices)\n",
        "\n",
        "        # Display choices\n",
        "        print(f\"\\nUser chooses: {user_choice}\")\n",
        "        print(f\"Computer chooses: {computer_choice}\")\n",
        "\n",
        "        # Determine the winner\n",
        "        if user_choice == computer_choice:\n",
        "            print(\"It's a tie!\")\n",
        "        elif (\n",
        "            (user_choice == \"rock\" and computer_choice == \"scissors\")\n",
        "            or (user_choice == \"scissors\" and computer_choice == \"paper\")\n",
        "            or (user_choice == \"paper\" and computer_choice == \"rock\")\n",
        "        ):\n",
        "            print(\"User wins!\")\n",
        "            user_score += 1\n",
        "        else:\n",
        "            print(\"Computer wins!\")\n",
        "            computer_score += 1\n",
        "\n",
        "        # Display scores\n",
        "        print(f\"\\nUser Score: {user_score}\")\n",
        "        print(f\"Computer Score: {computer_score}\")\n",
        "\n",
        "    return user_score, computer_score"
      ],
      "metadata": {
        "id": "8rAwRHyfv0uq"
      },
      "execution_count": null,
      "outputs": []
    },
    {
      "cell_type": "markdown",
      "source": [
        "## **Displaying Results**\n",
        "The following code will ask the user if they want to play again, and display the result/score of the game."
      ],
      "metadata": {
        "id": "SF7zH5NkwAtQ"
      }
    },
    {
      "cell_type": "code",
      "execution_count": null,
      "metadata": {
        "id": "lRGug6toqzeI"
      },
      "outputs": [],
      "source": [
        "while True:\n",
        "    user_score, computer_score = play_round()\n",
        "\n",
        "    # Ask the user if they want to play again\n",
        "    play_again = input(\"\\nDo you want to play another round? (yes/no): \").lower()\n",
        "    if play_again != 'yes':\n",
        "        break\n",
        "\n",
        "# Final scores\n",
        "print(\"\\nFinal Scores:\")\n",
        "print(f\"User Score: {user_score}\")\n",
        "print(f\"Computer Score: {computer_score}\")"
      ]
    },
    {
      "cell_type": "code",
      "source": [],
      "metadata": {
        "id": "OxzBHDFhwvKY"
      },
      "execution_count": null,
      "outputs": []
    }
  ]
}